{
 "cells": [
  {
   "cell_type": "code",
   "execution_count": 2,
   "metadata": {
    "collapsed": true
   },
   "outputs": [],
   "source": [
    "import csv ; import requests\n",
    "import bs4 as bs\n",
    "import urllib.request\n",
    "import os"
   ]
  },
  {
   "cell_type": "code",
   "execution_count": 4,
   "metadata": {},
   "outputs": [
    {
     "ename": "SyntaxError",
     "evalue": "invalid syntax (<ipython-input-4-d6d9e521c422>, line 2)",
     "output_type": "error",
     "traceback": [
      "\u001b[0;36m  File \u001b[0;32m\"<ipython-input-4-d6d9e521c422>\"\u001b[0;36m, line \u001b[0;32m2\u001b[0m\n\u001b[0;31m    hostname = 'http://www.camara.leg.br/internet/deputado/RelVotacoes.asp?nuLegislatura=55&nuMatricula=' +\u001b[0m\n\u001b[0m                                                                                                           ^\u001b[0m\n\u001b[0;31mSyntaxError\u001b[0m\u001b[0;31m:\u001b[0m invalid syntax\n"
     ]
    }
   ],
   "source": [
    "for number in range(1, 514):\n",
    "    hostname = 'http://www.camara.leg.br/internet/deputado/RelVotacoes.asp?nuLegislatura=55&nuMatricula=' + str(number) + '&dtInicio=01/02/2015&dtFim=02/09/2018'\n",
    "\n",
    "    sauce = urllib.request.urlopen(hostname).read()\n",
    "    soup = bs.BeautifulSoup(sauce,'lxml')\n",
    "\n",
    "    data = []\n",
    "\n",
    "    try:\n",
    "        name = soup.find_all('a')[62]\n",
    "\n",
    "        fileName = name.text.replace(\"-\", \"_\")\n",
    "        fileName = fileName.replace(\"/\", \"_\")\n",
    "        fileName = fileName.replace(\" \", \"\") + '.csv'\n",
    "\n",
    "        table_title = soup.find_all('th')\n",
    "        rows = soup.find_all('tr')\n",
    "        for row in rows:\n",
    "            cols = row.find_all('td')\n",
    "            cols = [ele.text.strip() for ele in cols]\n",
    "            data.append([ele for ele in cols if ele])\n",
    "\n",
    "        with open(fileName, 'w') as csv_file:\n",
    "            writer = csv.writer(csv_file)\n",
    "            writer.writerow(ele.text for ele in table_title)\n",
    "            for val in data:\n",
    "                writer.writerow(val)\n",
    "    except: \n",
    "        print(number)"
   ]
  },
  {
   "cell_type": "code",
   "execution_count": null,
   "metadata": {
    "collapsed": true
   },
   "outputs": [],
   "source": []
  }
 ],
 "metadata": {
  "kernelspec": {
   "display_name": "Python 3",
   "language": "python",
   "name": "python3"
  },
  "language_info": {
   "codemirror_mode": {
    "name": "ipython",
    "version": 3
   },
   "file_extension": ".py",
   "mimetype": "text/x-python",
   "name": "python",
   "nbconvert_exporter": "python",
   "pygments_lexer": "ipython3",
   "version": "3.6.3"
  }
 },
 "nbformat": 4,
 "nbformat_minor": 2
}
